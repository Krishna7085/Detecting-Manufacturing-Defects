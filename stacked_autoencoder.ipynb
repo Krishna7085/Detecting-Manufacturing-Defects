{
  "nbformat": 4,
  "nbformat_minor": 0,
  "metadata": {
    "colab": {
      "provenance": [],
      "machine_shape": "hm",
      "gpuType": "V100"
    },
    "kernelspec": {
      "name": "python3",
      "display_name": "Python 3"
    },
    "language_info": {
      "name": "python"
    },
    "accelerator": "GPU"
  },
  "cells": [
    {
      "cell_type": "code",
      "execution_count": 2,
      "metadata": {
        "id": "CHPBcD5vWvBM"
      },
      "outputs": [],
      "source": [
        "import os\n",
        "from skimage.feature import hog\n",
        "from skimage import exposure\n",
        "import numpy as np\n",
        "from sklearn import svm\n",
        "from sklearn.metrics import accuracy_score, confusion_matrix\n",
        "import tensorflow as tf\n",
        "\n",
        "import cv2\n",
        "\n",
        "import seaborn as sns\n",
        "import matplotlib.pyplot as plt\n",
        "\n",
        "\n"
      ]
    },
    {
      "cell_type": "code",
      "source": [
        "from google.colab import drive\n",
        "drive.mount('/content/drive', force_remount=True)"
      ],
      "metadata": {
        "colab": {
          "base_uri": "https://localhost:8080/"
        },
        "id": "aMz5HhTZcPsb",
        "outputId": "641eb24e-e8c5-4fdf-e398-14b7c5239e23"
      },
      "execution_count": 3,
      "outputs": [
        {
          "output_type": "stream",
          "name": "stdout",
          "text": [
            "Mounted at /content/drive\n"
          ]
        }
      ]
    },
    {
      "cell_type": "code",
      "source": [
        "base_path = '/content/drive/.shortcut-targets-by-id/1W01KwNde9fWkWs9206tNtZsdc3BVs97m/anomaly/mvtec_anomaly_detection/'\n"
      ],
      "metadata": {
        "id": "AKFz0ygoccuS"
      },
      "execution_count": 4,
      "outputs": []
    },
    {
      "cell_type": "code",
      "source": [
        "# Specify the list of classes (folders)\n",
        "classes = [\"zipper\", \"wood\", \"transistor\", \"toothbrush\", \"tile\", \"screw\", \"pill\", \"metal_nut\", \"leather\", \"hazelnut\", \"grid\", \"carpet\", \"capsule\", \"cable\", \"bottle\"]\n"
      ],
      "metadata": {
        "id": "pSHmekcUcgw2"
      },
      "execution_count": 5,
      "outputs": []
    },
    {
      "cell_type": "code",
      "source": [
        "def load_and_preprocess_image(image_path, target_size=(180, 180)):\n",
        "    # Load the image using OpenCV\n",
        "    image = cv2.imread(image_path)\n",
        "    # Resize the image to the target size\n",
        "    image = cv2.resize(image, target_size)\n",
        "    # Normalize the pixel values to the [0, 1] range\n",
        "    image = image.astype(\"float32\") / 255.0\n",
        "    return image"
      ],
      "metadata": {
        "id": "ltWRSFREcnKP"
      },
      "execution_count": 6,
      "outputs": []
    },
    {
      "cell_type": "code",
      "source": [
        "# Initialize lists to store images and labels\n",
        "images_train = []\n",
        "labels_train = []\n",
        "\n",
        "images_test = []\n",
        "labels_test = []\n"
      ],
      "metadata": {
        "id": "zZdLXbZqcut3"
      },
      "execution_count": 7,
      "outputs": []
    },
    {
      "cell_type": "code",
      "source": [
        "# Load and preprocess the images for the training dataset (only \"good\" class)\n",
        "for class_name in classes:\n",
        "    train_folder = os.path.join(base_path, class_name, \"train\", \"good\")\n",
        "\n",
        "    for filename in os.listdir(train_folder):\n",
        "        image_path = os.path.join(train_folder, filename)\n",
        "        image = load_and_preprocess_image(image_path, target_size=(180, 180))  # Load and preprocess your image\n",
        "        images_train.append(image)\n",
        "        labels_train.append(0)\n"
      ],
      "metadata": {
        "id": "IX-cJLIwc6BA"
      },
      "execution_count": 8,
      "outputs": []
    },
    {
      "cell_type": "code",
      "source": [
        "print('Dimension of objects in the list images_train: ', images_train[0].shape)\n",
        "print('Number of samples in the list images_train: ', len(images_train))\n",
        "\n"
      ],
      "metadata": {
        "colab": {
          "base_uri": "https://localhost:8080/"
        },
        "id": "P--rhjQme6UC",
        "outputId": "5fbb61da-4f9c-4a18-91ad-a1f0d4b19593"
      },
      "execution_count": 9,
      "outputs": [
        {
          "output_type": "stream",
          "name": "stdout",
          "text": [
            "Dimension of objects in the list images_train:  (180, 180, 3)\n",
            "Number of samples in the list images_train:  3629\n"
          ]
        }
      ]
    },
    {
      "cell_type": "code",
      "source": [
        "# Load and preprocess the images for the testing dataset (both \"good\" and \"defected\" classes)\n",
        "for class_name in classes:\n",
        "    test_folder = os.path.join(base_path, class_name, \"test\")\n",
        "\n",
        "    for folder_name in os.listdir(test_folder):\n",
        "        defect_folder = os.path.join(test_folder, folder_name)\n",
        "\n",
        "        for filename in os.listdir(defect_folder):\n",
        "            image_path = os.path.join(defect_folder, filename)\n",
        "            image = load_and_preprocess_image(image_path, target_size=(180, 180))\n",
        "            images_test.append(image)\n",
        "            labels_test.append(0 if folder_name == \"good\" else 1)\n"
      ],
      "metadata": {
        "id": "u8EaleLldT_v"
      },
      "execution_count": 10,
      "outputs": []
    },
    {
      "cell_type": "code",
      "source": [
        "print('Dimension of objects in the list images_test: ', images_test[0].shape)\n",
        "print('Number of samples in the list images_test: ', len(images_test))\n"
      ],
      "metadata": {
        "colab": {
          "base_uri": "https://localhost:8080/"
        },
        "id": "zFxmqYGemayD",
        "outputId": "e2be8d80-3eb8-4562-c6d4-79f6fe125f54"
      },
      "execution_count": 11,
      "outputs": [
        {
          "output_type": "stream",
          "name": "stdout",
          "text": [
            "Dimension of objects in the list images_test:  (180, 180, 3)\n",
            "Number of samples in the list images_test:  1725\n"
          ]
        }
      ]
    },
    {
      "cell_type": "code",
      "source": [
        "# Convert the data to numpy arrays\n",
        "X_train = np.array(images_train)\n",
        "X_test = np.array(images_test)\n",
        "\n",
        "# Normalize pixel values to the range [0, 1]\n",
        "X_train = X_train.astype('float32') / 255.0\n",
        "X_test = X_test.astype('float32') / 255.0\n"
      ],
      "metadata": {
        "id": "XdhCHbw5gJF7"
      },
      "execution_count": 12,
      "outputs": []
    },
    {
      "cell_type": "code",
      "source": [
        "X_train[0].shape, X_test[0].shape"
      ],
      "metadata": {
        "colab": {
          "base_uri": "https://localhost:8080/"
        },
        "id": "9zA2jRucnx9-",
        "outputId": "3b17d3cf-0c45-4bae-e198-07dcd16341d3"
      },
      "execution_count": 13,
      "outputs": [
        {
          "output_type": "execute_result",
          "data": {
            "text/plain": [
              "((180, 180, 3), (180, 180, 3))"
            ]
          },
          "metadata": {},
          "execution_count": 13
        }
      ]
    },
    {
      "cell_type": "code",
      "source": [
        "# Stacked Autoencoder for Color Images\n",
        "stacked_encoder = tf.keras.Sequential([\n",
        "    tf.keras.layers.Flatten(),\n",
        "    tf.keras.layers.Dense(2, activation=\"relu\"),\n",
        "    tf.keras.layers.Dense(1, activation=\"relu\"),\n",
        "])\n",
        "stacked_decoder = tf.keras.Sequential([\n",
        "    tf.keras.layers.Dense(2, activation=\"relu\"),\n",
        "    tf.keras.layers.Dense(180 * 180 * 3),\n",
        "    tf.keras.layers.Reshape([180, 180, 3])\n",
        "])\n",
        "stacked_ae = tf.keras.Sequential([stacked_encoder, stacked_decoder])\n",
        "stacked_ae.compile(loss=\"mse\", optimizer=\"nadam\")"
      ],
      "metadata": {
        "id": "bTsEM16pehO3"
      },
      "execution_count": 23,
      "outputs": []
    },
    {
      "cell_type": "code",
      "source": [
        "# Train the stacked autoencoder with X_train as both input and output\n",
        "history = stacked_ae.fit(X_train, X_train, epochs=20)"
      ],
      "metadata": {
        "colab": {
          "base_uri": "https://localhost:8080/"
        },
        "id": "bA__6TAHpqge",
        "outputId": "a80a3797-cbbd-4c45-9443-b58d47e6a009"
      },
      "execution_count": 24,
      "outputs": [
        {
          "output_type": "stream",
          "name": "stdout",
          "text": [
            "Epoch 1/20\n",
            "114/114 [==============================] - 3s 11ms/step - loss: 1.1016e-06\n",
            "Epoch 2/20\n",
            "114/114 [==============================] - 1s 10ms/step - loss: 9.9621e-07\n",
            "Epoch 3/20\n",
            "114/114 [==============================] - 1s 11ms/step - loss: 9.9661e-07\n",
            "Epoch 4/20\n",
            "114/114 [==============================] - 1s 11ms/step - loss: 9.9786e-07\n",
            "Epoch 5/20\n",
            "114/114 [==============================] - 1s 10ms/step - loss: 9.9725e-07\n",
            "Epoch 6/20\n",
            "114/114 [==============================] - 1s 10ms/step - loss: 9.9862e-07\n",
            "Epoch 7/20\n",
            "114/114 [==============================] - 1s 10ms/step - loss: 9.9815e-07\n",
            "Epoch 8/20\n",
            "114/114 [==============================] - 1s 11ms/step - loss: 9.9756e-07\n",
            "Epoch 9/20\n",
            "114/114 [==============================] - 1s 11ms/step - loss: 9.9737e-07\n",
            "Epoch 10/20\n",
            "114/114 [==============================] - 1s 10ms/step - loss: 9.9679e-07\n",
            "Epoch 11/20\n",
            "114/114 [==============================] - 1s 10ms/step - loss: 9.9780e-07\n",
            "Epoch 12/20\n",
            "114/114 [==============================] - 1s 10ms/step - loss: 9.9740e-07\n",
            "Epoch 13/20\n",
            "114/114 [==============================] - 1s 10ms/step - loss: 9.9837e-07\n",
            "Epoch 14/20\n",
            "114/114 [==============================] - 1s 10ms/step - loss: 9.9678e-07\n",
            "Epoch 15/20\n",
            "114/114 [==============================] - 1s 10ms/step - loss: 9.9693e-07\n",
            "Epoch 16/20\n",
            "114/114 [==============================] - 1s 10ms/step - loss: 9.9803e-07\n",
            "Epoch 17/20\n",
            "114/114 [==============================] - 1s 10ms/step - loss: 9.9676e-07\n",
            "Epoch 18/20\n",
            "114/114 [==============================] - 1s 11ms/step - loss: 9.9690e-07\n",
            "Epoch 19/20\n",
            "114/114 [==============================] - 1s 11ms/step - loss: 9.9805e-07\n",
            "Epoch 20/20\n",
            "114/114 [==============================] - 1s 11ms/step - loss: 9.9803e-07\n"
          ]
        }
      ]
    },
    {
      "cell_type": "code",
      "source": [
        "# Use the trained autoencoder to reconstruct images from X_test\n",
        "reconstructed_images = stacked_ae.predict(X_test)\n",
        "\n",
        "# Calculate reconstruction errors (MSE)\n",
        "reconstruction_errors = np.mean(np.square(X_test - reconstructed_images), axis=(1, 2, 3))\n"
      ],
      "metadata": {
        "colab": {
          "base_uri": "https://localhost:8080/"
        },
        "id": "XF90lIuvqVx-",
        "outputId": "6f57c1b8-3b12-4334-939e-ec074022024f"
      },
      "execution_count": 25,
      "outputs": [
        {
          "output_type": "stream",
          "name": "stdout",
          "text": [
            "54/54 [==============================] - 0s 6ms/step\n"
          ]
        }
      ]
    },
    {
      "cell_type": "code",
      "source": [
        "reconstruction_errors"
      ],
      "metadata": {
        "colab": {
          "base_uri": "https://localhost:8080/"
        },
        "id": "GQphPMZmqqgm",
        "outputId": "a1350af1-6dbe-41c8-ec71-85aabdbce603"
      },
      "execution_count": 26,
      "outputs": [
        {
          "output_type": "execute_result",
          "data": {
            "text/plain": [
              "array([1.4877376e-06, 1.5397719e-06, 1.5145959e-06, ..., 2.0754180e-06,\n",
              "       2.0963319e-06, 2.1035214e-06], dtype=float32)"
            ]
          },
          "metadata": {},
          "execution_count": 26
        }
      ]
    },
    {
      "cell_type": "code",
      "source": [
        "# Define the desired percentile (e.g., 95th percentile)\n",
        "desired_percentile = 50\n",
        "\n",
        "\n",
        "# Calculate the threshold as the specified percentile\n",
        "threshold_precentile = np.percentile(reconstruction_errors, desired_percentile)\n",
        "\n",
        "# Print the calculated threshold\n",
        "print(f\"Threshold at {desired_percentile}th percentile: {threshold_precentile:.2e}\")"
      ],
      "metadata": {
        "colab": {
          "base_uri": "https://localhost:8080/"
        },
        "id": "K89U2NGUr0V6",
        "outputId": "91f6afd3-7b35-4787-884c-fba30533b36a"
      },
      "execution_count": 27,
      "outputs": [
        {
          "output_type": "stream",
          "name": "stdout",
          "text": [
            "Threshold at 50th percentile: 9.55e-07\n"
          ]
        }
      ]
    },
    {
      "cell_type": "code",
      "source": [
        "# Set an anomaly detection threshold (adjust as needed)\n",
        "threshold = threshold_precentile\n",
        "\n",
        "# Identify defected images based on the threshold\n",
        "defected_indices = np.where(reconstruction_errors > threshold)[0]\n",
        "defected_images = X_test[defected_indices]\n"
      ],
      "metadata": {
        "id": "8AYuYp5DqaDv"
      },
      "execution_count": 28,
      "outputs": []
    },
    {
      "cell_type": "code",
      "source": [
        "len(defected_images)"
      ],
      "metadata": {
        "colab": {
          "base_uri": "https://localhost:8080/"
        },
        "id": "E9btqepSqj6K",
        "outputId": "0db54626-68e1-48e7-af31-2c739355a820"
      },
      "execution_count": 29,
      "outputs": [
        {
          "output_type": "execute_result",
          "data": {
            "text/plain": [
              "862"
            ]
          },
          "metadata": {},
          "execution_count": 29
        }
      ]
    },
    {
      "cell_type": "code",
      "source": [
        "# Create predicted_labels array\n",
        "predicted_labels = np.zeros(len(X_test))\n",
        "predicted_labels[defected_indices] = 1"
      ],
      "metadata": {
        "id": "dZjf0K_Z3mOw"
      },
      "execution_count": 30,
      "outputs": []
    },
    {
      "cell_type": "code",
      "source": [
        "# Create the confusion matrix\n",
        "confusion_mat = confusion_matrix(labels_test, predicted_labels)\n",
        "\n",
        "# Calculate TP, FP, TN, FN values\n",
        "TP = confusion_mat[1, 1]\n",
        "FP = confusion_mat[0, 1]\n",
        "TN = confusion_mat[0, 0]\n",
        "FN = confusion_mat[1, 0]\n",
        "\n",
        "# Calculate precision, recall, and F1-score\n",
        "precision = TP / (TP + FP)\n",
        "recall = TP / (TP + FN)\n",
        "f1_score = 2 * (precision * recall) / (precision + recall)\n",
        "\n",
        "# Create a confusion matrix plot (percentages)\n",
        "cm_percentage = confusion_mat.astype('float') / confusion_mat.sum(axis=1)[:, np.newaxis] * 100\n",
        "\n",
        "plt.figure(figsize=(8, 6))\n",
        "sns.set(font_scale=1.2)\n",
        "sns.heatmap(cm_percentage, annot=True, fmt=\".1f\", cmap=\"Blues\",\n",
        "            xticklabels=[\"Non-Defective\", \"Defective\"],\n",
        "            yticklabels=[\"Non-Defective\", \"Defective\"])\n",
        "plt.xlabel('Predicted')\n",
        "plt.ylabel('True')\n",
        "plt.title('Confusion Matrix (Percentages)')\n",
        "plt.show()\n",
        "\n",
        "# Print confusion matrix and metrics\n",
        "print(\"Confusion Matrix:\")\n",
        "print(confusion_mat)\n",
        "print(f\"True Positives (TP): {TP}\")\n",
        "print(f\"False Positives (FP): {FP}\")\n",
        "print(f\"True Negatives (TN): {TN}\")\n",
        "print(f\"False Negatives (FN): {FN}\")\n",
        "print(f\"Precision: {precision:.3f}\")\n",
        "print(f\"Recall: {recall:.3f}\")\n",
        "print(f\"F1-Score: {f1_score:.3f}\")\n"
      ],
      "metadata": {
        "colab": {
          "base_uri": "https://localhost:8080/",
          "height": 748
        },
        "id": "21Dp2ELk3qza",
        "outputId": "06e42099-ba19-4f15-9080-91881cfd6cad"
      },
      "execution_count": 31,
      "outputs": [
        {
          "output_type": "display_data",
          "data": {
            "text/plain": [
              "<Figure size 800x600 with 2 Axes>"
            ],
            "image/png": "[encoded data removed]"
          },
          "metadata": {}
        },
        {
          "output_type": "stream",
          "name": "stdout",
          "text": [
            "Confusion Matrix:\n",
            "[[293 174]\n",
            " [570 688]]\n",
            "True Positives (TP): 688\n",
            "False Positives (FP): 174\n",
            "True Negatives (TN): 293\n",
            "False Negatives (FN): 570\n",
            "Precision: 0.798\n",
            "Recall: 0.547\n",
            "F1-Score: 0.649\n"
          ]
        }
      ]
    }
  ]
}